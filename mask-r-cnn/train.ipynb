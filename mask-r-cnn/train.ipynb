{
 "cells": [
  {
   "cell_type": "code",
   "execution_count": 8,
   "metadata": {},
   "outputs": [
    {
     "name": "stdout",
     "output_type": "stream",
     "text": [
      "zsh:1: command not found: nvidia-smi\n"
     ]
    }
   ],
   "source": [
    "!nvidia-smi"
   ]
  },
  {
   "cell_type": "code",
   "execution_count": 1,
   "metadata": {},
   "outputs": [
    {
     "name": "stdout",
     "output_type": "stream",
     "text": [
      "Requirement already satisfied: roboflow in /Users/serhiipostupaiev/projects/yolov8-research/venv/lib/python3.11/site-packages (1.1.23)\n",
      "Requirement already satisfied: certifi==2023.7.22 in /Users/serhiipostupaiev/projects/yolov8-research/venv/lib/python3.11/site-packages (from roboflow) (2023.7.22)\n",
      "Requirement already satisfied: chardet==4.0.0 in /Users/serhiipostupaiev/projects/yolov8-research/venv/lib/python3.11/site-packages (from roboflow) (4.0.0)\n",
      "Requirement already satisfied: cycler==0.10.0 in /Users/serhiipostupaiev/projects/yolov8-research/venv/lib/python3.11/site-packages (from roboflow) (0.10.0)\n",
      "Requirement already satisfied: idna==2.10 in /Users/serhiipostupaiev/projects/yolov8-research/venv/lib/python3.11/site-packages (from roboflow) (2.10)\n",
      "Requirement already satisfied: kiwisolver>=1.3.1 in /Users/serhiipostupaiev/projects/yolov8-research/venv/lib/python3.11/site-packages (from roboflow) (1.4.5)\n",
      "Requirement already satisfied: matplotlib in /Users/serhiipostupaiev/projects/yolov8-research/venv/lib/python3.11/site-packages (from roboflow) (3.8.3)\n",
      "Requirement already satisfied: numpy>=1.18.5 in /Users/serhiipostupaiev/projects/yolov8-research/venv/lib/python3.11/site-packages (from roboflow) (1.23.5)\n",
      "Requirement already satisfied: opencv-python-headless==4.8.0.74 in /Users/serhiipostupaiev/projects/yolov8-research/venv/lib/python3.11/site-packages (from roboflow) (4.8.0.74)\n",
      "Requirement already satisfied: Pillow>=7.1.2 in /Users/serhiipostupaiev/projects/yolov8-research/venv/lib/python3.11/site-packages (from roboflow) (10.2.0)\n",
      "Requirement already satisfied: python-dateutil in /Users/serhiipostupaiev/projects/yolov8-research/venv/lib/python3.11/site-packages (from roboflow) (2.9.0.post0)\n",
      "Requirement already satisfied: python-dotenv in /Users/serhiipostupaiev/projects/yolov8-research/venv/lib/python3.11/site-packages (from roboflow) (1.0.1)\n",
      "Requirement already satisfied: requests in /Users/serhiipostupaiev/projects/yolov8-research/venv/lib/python3.11/site-packages (from roboflow) (2.31.0)\n",
      "Requirement already satisfied: six in /Users/serhiipostupaiev/projects/yolov8-research/venv/lib/python3.11/site-packages (from roboflow) (1.16.0)\n",
      "Requirement already satisfied: urllib3>=1.26.6 in /Users/serhiipostupaiev/projects/yolov8-research/venv/lib/python3.11/site-packages (from roboflow) (2.2.1)\n",
      "Requirement already satisfied: tqdm>=4.41.0 in /Users/serhiipostupaiev/projects/yolov8-research/venv/lib/python3.11/site-packages (from roboflow) (4.66.2)\n",
      "Requirement already satisfied: PyYAML>=5.3.1 in /Users/serhiipostupaiev/projects/yolov8-research/venv/lib/python3.11/site-packages (from roboflow) (6.0.1)\n",
      "Requirement already satisfied: requests-toolbelt in /Users/serhiipostupaiev/projects/yolov8-research/venv/lib/python3.11/site-packages (from roboflow) (1.0.0)\n",
      "Requirement already satisfied: python-magic in /Users/serhiipostupaiev/projects/yolov8-research/venv/lib/python3.11/site-packages (from roboflow) (0.4.27)\n",
      "Requirement already satisfied: contourpy>=1.0.1 in /Users/serhiipostupaiev/projects/yolov8-research/venv/lib/python3.11/site-packages (from matplotlib->roboflow) (1.2.0)\n",
      "Requirement already satisfied: fonttools>=4.22.0 in /Users/serhiipostupaiev/projects/yolov8-research/venv/lib/python3.11/site-packages (from matplotlib->roboflow) (4.49.0)\n",
      "Requirement already satisfied: packaging>=20.0 in /Users/serhiipostupaiev/projects/yolov8-research/venv/lib/python3.11/site-packages (from matplotlib->roboflow) (24.0)\n",
      "Requirement already satisfied: pyparsing>=2.3.1 in /Users/serhiipostupaiev/projects/yolov8-research/venv/lib/python3.11/site-packages (from matplotlib->roboflow) (3.1.2)\n",
      "Requirement already satisfied: charset-normalizer<4,>=2 in /Users/serhiipostupaiev/projects/yolov8-research/venv/lib/python3.11/site-packages (from requests->roboflow) (3.3.2)\n",
      "Collecting git+https://github.com/facebookresearch/detectron2.git\n",
      "  Cloning https://github.com/facebookresearch/detectron2.git to /private/var/folders/9j/cvqh0v2d3g1cn672v4718hg80000gn/T/pip-req-build-zyqwpb6_\n",
      "  Running command git clone --filter=blob:none --quiet https://github.com/facebookresearch/detectron2.git /private/var/folders/9j/cvqh0v2d3g1cn672v4718hg80000gn/T/pip-req-build-zyqwpb6_\n",
      "  Resolved https://github.com/facebookresearch/detectron2.git to commit cc9266c2396d5545315e3601027ba4bc28e8c95b\n",
      "  Preparing metadata (setup.py) ... \u001b[?25ldone\n",
      "\u001b[?25hRequirement already satisfied: Pillow>=7.1 in /Users/serhiipostupaiev/projects/yolov8-research/venv/lib/python3.11/site-packages (from detectron2==0.6) (10.2.0)\n",
      "Requirement already satisfied: matplotlib in /Users/serhiipostupaiev/projects/yolov8-research/venv/lib/python3.11/site-packages (from detectron2==0.6) (3.8.3)\n",
      "Requirement already satisfied: pycocotools>=2.0.2 in /Users/serhiipostupaiev/projects/yolov8-research/venv/lib/python3.11/site-packages (from detectron2==0.6) (2.0.7)\n",
      "Collecting termcolor>=1.1 (from detectron2==0.6)\n",
      "  Downloading termcolor-2.4.0-py3-none-any.whl.metadata (6.1 kB)\n",
      "Collecting yacs>=0.1.8 (from detectron2==0.6)\n",
      "  Downloading yacs-0.1.8-py3-none-any.whl.metadata (639 bytes)\n",
      "Collecting tabulate (from detectron2==0.6)\n",
      "  Downloading tabulate-0.9.0-py3-none-any.whl.metadata (34 kB)\n",
      "Collecting cloudpickle (from detectron2==0.6)\n",
      "  Downloading cloudpickle-3.0.0-py3-none-any.whl.metadata (7.0 kB)\n",
      "Requirement already satisfied: tqdm>4.29.0 in /Users/serhiipostupaiev/projects/yolov8-research/venv/lib/python3.11/site-packages (from detectron2==0.6) (4.66.2)\n",
      "Requirement already satisfied: tensorboard in /Users/serhiipostupaiev/projects/yolov8-research/venv/lib/python3.11/site-packages (from detectron2==0.6) (2.16.2)\n",
      "Collecting fvcore<0.1.6,>=0.1.5 (from detectron2==0.6)\n",
      "  Downloading fvcore-0.1.5.post20221221.tar.gz (50 kB)\n",
      "\u001b[2K     \u001b[38;2;114;156;31m━━━━━━━━━━━━━━━━━━━━━━━━━━━━━━━━━━━━━━━━\u001b[0m \u001b[32m50.2/50.2 kB\u001b[0m \u001b[31m2.6 MB/s\u001b[0m eta \u001b[36m0:00:00\u001b[0m\n",
      "\u001b[?25h  Preparing metadata (setup.py) ... \u001b[?25ldone\n",
      "\u001b[?25hCollecting iopath<0.1.10,>=0.1.7 (from detectron2==0.6)\n",
      "  Downloading iopath-0.1.9-py3-none-any.whl.metadata (370 bytes)\n",
      "Collecting omegaconf<2.4,>=2.1 (from detectron2==0.6)\n",
      "  Downloading omegaconf-2.3.0-py3-none-any.whl.metadata (3.9 kB)\n",
      "Collecting hydra-core>=1.1 (from detectron2==0.6)\n",
      "  Downloading hydra_core-1.3.2-py3-none-any.whl.metadata (5.5 kB)\n",
      "Collecting black (from detectron2==0.6)\n",
      "  Downloading black-24.2.0-cp311-cp311-macosx_11_0_arm64.whl.metadata (74 kB)\n",
      "\u001b[2K     \u001b[38;2;114;156;31m━━━━━━━━━━━━━━━━━━━━━━━━━━━━━━━━━━━━━━━━\u001b[0m \u001b[32m74.6/74.6 kB\u001b[0m \u001b[31m4.1 MB/s\u001b[0m eta \u001b[36m0:00:00\u001b[0m\n",
      "\u001b[?25hRequirement already satisfied: packaging in /Users/serhiipostupaiev/projects/yolov8-research/venv/lib/python3.11/site-packages (from detectron2==0.6) (24.0)\n",
      "Requirement already satisfied: numpy in /Users/serhiipostupaiev/projects/yolov8-research/venv/lib/python3.11/site-packages (from fvcore<0.1.6,>=0.1.5->detectron2==0.6) (1.23.5)\n",
      "Requirement already satisfied: pyyaml>=5.1 in /Users/serhiipostupaiev/projects/yolov8-research/venv/lib/python3.11/site-packages (from fvcore<0.1.6,>=0.1.5->detectron2==0.6) (6.0.1)\n",
      "Collecting antlr4-python3-runtime==4.9.* (from hydra-core>=1.1->detectron2==0.6)\n",
      "  Downloading antlr4-python3-runtime-4.9.3.tar.gz (117 kB)\n",
      "\u001b[2K     \u001b[38;2;114;156;31m━━━━━━━━━━━━━━━━━━━━━━━━━━━━━━━━━━━━━━━\u001b[0m \u001b[32m117.0/117.0 kB\u001b[0m \u001b[31m6.8 MB/s\u001b[0m eta \u001b[36m0:00:00\u001b[0m\n",
      "\u001b[?25h  Preparing metadata (setup.py) ... \u001b[?25ldone\n",
      "\u001b[?25hCollecting portalocker (from iopath<0.1.10,>=0.1.7->detectron2==0.6)\n",
      "  Downloading portalocker-2.8.2-py3-none-any.whl.metadata (8.5 kB)\n",
      "Requirement already satisfied: contourpy>=1.0.1 in /Users/serhiipostupaiev/projects/yolov8-research/venv/lib/python3.11/site-packages (from matplotlib->detectron2==0.6) (1.2.0)\n",
      "Requirement already satisfied: cycler>=0.10 in /Users/serhiipostupaiev/projects/yolov8-research/venv/lib/python3.11/site-packages (from matplotlib->detectron2==0.6) (0.10.0)\n",
      "Requirement already satisfied: fonttools>=4.22.0 in /Users/serhiipostupaiev/projects/yolov8-research/venv/lib/python3.11/site-packages (from matplotlib->detectron2==0.6) (4.49.0)\n",
      "Requirement already satisfied: kiwisolver>=1.3.1 in /Users/serhiipostupaiev/projects/yolov8-research/venv/lib/python3.11/site-packages (from matplotlib->detectron2==0.6) (1.4.5)\n",
      "Requirement already satisfied: pyparsing>=2.3.1 in /Users/serhiipostupaiev/projects/yolov8-research/venv/lib/python3.11/site-packages (from matplotlib->detectron2==0.6) (3.1.2)\n",
      "Requirement already satisfied: python-dateutil>=2.7 in /Users/serhiipostupaiev/projects/yolov8-research/venv/lib/python3.11/site-packages (from matplotlib->detectron2==0.6) (2.9.0.post0)\n",
      "Collecting click>=8.0.0 (from black->detectron2==0.6)\n",
      "  Downloading click-8.1.7-py3-none-any.whl.metadata (3.0 kB)\n",
      "Collecting mypy-extensions>=0.4.3 (from black->detectron2==0.6)\n",
      "  Downloading mypy_extensions-1.0.0-py3-none-any.whl.metadata (1.1 kB)\n",
      "Collecting pathspec>=0.9.0 (from black->detectron2==0.6)\n",
      "  Downloading pathspec-0.12.1-py3-none-any.whl.metadata (21 kB)\n",
      "Requirement already satisfied: platformdirs>=2 in /Users/serhiipostupaiev/projects/yolov8-research/venv/lib/python3.11/site-packages (from black->detectron2==0.6) (4.2.0)\n",
      "Requirement already satisfied: absl-py>=0.4 in /Users/serhiipostupaiev/projects/yolov8-research/venv/lib/python3.11/site-packages (from tensorboard->detectron2==0.6) (2.1.0)\n",
      "Requirement already satisfied: grpcio>=1.48.2 in /Users/serhiipostupaiev/projects/yolov8-research/venv/lib/python3.11/site-packages (from tensorboard->detectron2==0.6) (1.62.1)\n",
      "Requirement already satisfied: markdown>=2.6.8 in /Users/serhiipostupaiev/projects/yolov8-research/venv/lib/python3.11/site-packages (from tensorboard->detectron2==0.6) (3.5.2)\n",
      "Requirement already satisfied: protobuf!=4.24.0,>=3.19.6 in /Users/serhiipostupaiev/projects/yolov8-research/venv/lib/python3.11/site-packages (from tensorboard->detectron2==0.6) (3.20.1)\n",
      "Requirement already satisfied: setuptools>=41.0.0 in /Users/serhiipostupaiev/projects/yolov8-research/venv/lib/python3.11/site-packages (from tensorboard->detectron2==0.6) (69.0.2)\n",
      "Requirement already satisfied: six>1.9 in /Users/serhiipostupaiev/projects/yolov8-research/venv/lib/python3.11/site-packages (from tensorboard->detectron2==0.6) (1.16.0)\n",
      "Requirement already satisfied: tensorboard-data-server<0.8.0,>=0.7.0 in /Users/serhiipostupaiev/projects/yolov8-research/venv/lib/python3.11/site-packages (from tensorboard->detectron2==0.6) (0.7.2)\n",
      "Requirement already satisfied: werkzeug>=1.0.1 in /Users/serhiipostupaiev/projects/yolov8-research/venv/lib/python3.11/site-packages (from tensorboard->detectron2==0.6) (3.0.1)\n",
      "Requirement already satisfied: MarkupSafe>=2.1.1 in /Users/serhiipostupaiev/projects/yolov8-research/venv/lib/python3.11/site-packages (from werkzeug>=1.0.1->tensorboard->detectron2==0.6) (2.1.5)\n",
      "Downloading hydra_core-1.3.2-py3-none-any.whl (154 kB)\n",
      "\u001b[2K   \u001b[38;2;114;156;31m━━━━━━━━━━━━━━━━━━━━━━━━━━━━━━━━━━━━━━━━\u001b[0m \u001b[32m154.5/154.5 kB\u001b[0m \u001b[31m9.7 MB/s\u001b[0m eta \u001b[36m0:00:00\u001b[0m\n",
      "\u001b[?25hDownloading iopath-0.1.9-py3-none-any.whl (27 kB)\n",
      "Downloading omegaconf-2.3.0-py3-none-any.whl (79 kB)\n",
      "\u001b[2K   \u001b[38;2;114;156;31m━━━━━━━━━━━━━━━━━━━━━━━━━━━━━━━━━━━━━━━━\u001b[0m \u001b[32m79.5/79.5 kB\u001b[0m \u001b[31m5.9 MB/s\u001b[0m eta \u001b[36m0:00:00\u001b[0m\n",
      "\u001b[?25hDownloading termcolor-2.4.0-py3-none-any.whl (7.7 kB)\n",
      "Downloading yacs-0.1.8-py3-none-any.whl (14 kB)\n",
      "Downloading black-24.2.0-cp311-cp311-macosx_11_0_arm64.whl (1.4 MB)\n",
      "\u001b[2K   \u001b[38;2;114;156;31m━━━━━━━━━━━━━━━━━━━━━━━━━━━━━━━━━━━━━━━━\u001b[0m \u001b[32m1.4/1.4 MB\u001b[0m \u001b[31m7.9 MB/s\u001b[0m eta \u001b[36m0:00:00\u001b[0m[31m8.3 MB/s\u001b[0m eta \u001b[36m0:00:01\u001b[0mm\n",
      "\u001b[?25hDownloading cloudpickle-3.0.0-py3-none-any.whl (20 kB)\n",
      "Downloading tabulate-0.9.0-py3-none-any.whl (35 kB)\n",
      "Downloading click-8.1.7-py3-none-any.whl (97 kB)\n",
      "\u001b[2K   \u001b[38;2;114;156;31m━━━━━━━━━━━━━━━━━━━━━━━━━━━━━━━━━━━━━━━━\u001b[0m \u001b[32m97.9/97.9 kB\u001b[0m \u001b[31m5.7 MB/s\u001b[0m eta \u001b[36m0:00:00\u001b[0m\n",
      "\u001b[?25hDownloading mypy_extensions-1.0.0-py3-none-any.whl (4.7 kB)\n",
      "Downloading pathspec-0.12.1-py3-none-any.whl (31 kB)\n",
      "Downloading portalocker-2.8.2-py3-none-any.whl (17 kB)\n",
      "Building wheels for collected packages: detectron2, fvcore, antlr4-python3-runtime\n",
      "  Building wheel for detectron2 (setup.py) ... \u001b[?25ldone\n",
      "\u001b[?25h  Created wheel for detectron2: filename=detectron2-0.6-cp311-cp311-macosx_14_0_arm64.whl size=872708 sha256=f8e9dac678d8ec90a581aa2ac2295838422c0c0493c901c95ad517381171a77e\n",
      "  Stored in directory: /private/var/folders/9j/cvqh0v2d3g1cn672v4718hg80000gn/T/pip-ephem-wheel-cache-f81g3vwg/wheels/17/d9/40/60db98e485aa9455d653e29d1046601ce96fe23647f60c1c5a\n",
      "  Building wheel for fvcore (setup.py) ... \u001b[?25ldone\n",
      "\u001b[?25h  Created wheel for fvcore: filename=fvcore-0.1.5.post20221221-py3-none-any.whl size=61400 sha256=967d91726ac1c386fe9c954e3e82f9340509cf3063a90866db5ccd6295c64a14\n",
      "  Stored in directory: /Users/serhiipostupaiev/Library/Caches/pip/wheels/65/71/95/3b8fde5c65c6e4a806e0867c1651dcc71a1cb2f3430e8f355f\n",
      "  Building wheel for antlr4-python3-runtime (setup.py) ... \u001b[?25ldone\n",
      "\u001b[?25h  Created wheel for antlr4-python3-runtime: filename=antlr4_python3_runtime-4.9.3-py3-none-any.whl size=144554 sha256=1bbda6cb1b3e1c4e8cab3e8dcebf62da1dff3100403731d63b8fa00d3063f267\n",
      "  Stored in directory: /Users/serhiipostupaiev/Library/Caches/pip/wheels/1a/97/32/461f837398029ad76911109f07047fde1d7b661a147c7c56d1\n",
      "Successfully built detectron2 fvcore antlr4-python3-runtime\n",
      "Installing collected packages: antlr4-python3-runtime, yacs, termcolor, tabulate, portalocker, pathspec, omegaconf, mypy-extensions, cloudpickle, click, iopath, hydra-core, black, fvcore, detectron2\n",
      "Successfully installed antlr4-python3-runtime-4.9.3 black-24.2.0 click-8.1.7 cloudpickle-3.0.0 detectron2-0.6 fvcore-0.1.5.post20221221 hydra-core-1.3.2 iopath-0.1.9 mypy-extensions-1.0.0 omegaconf-2.3.0 pathspec-0.12.1 portalocker-2.8.2 tabulate-0.9.0 termcolor-2.4.0 yacs-0.1.8\n"
     ]
    }
   ],
   "source": [
    "!python -m pip install 'git+https://github.com/facebookresearch/detectron2.git'"
   ]
  },
  {
   "cell_type": "code",
   "execution_count": 9,
   "metadata": {},
   "outputs": [
    {
     "name": "stdout",
     "output_type": "stream",
     "text": [
      "zsh:1: command not found: nvcc\n",
      "torch:  2.2 ; cuda:  2.2.1\n",
      "detectron2: 0.6\n"
     ]
    }
   ],
   "source": [
    "import torch, detectron2\n",
    "!nvcc --version\n",
    "TORCH_VERSION = \".\".join(torch.__version__.split(\".\")[:2])\n",
    "CUDA_VERSION = torch.__version__.split(\"+\")[-1]\n",
    "print(\"torch: \", TORCH_VERSION, \"; cuda: \", CUDA_VERSION)\n",
    "print(\"detectron2:\", detectron2.__version__)"
   ]
  },
  {
   "cell_type": "code",
   "execution_count": 3,
   "metadata": {},
   "outputs": [],
   "source": [
    "import yaml\n",
    "\n",
    "with open(\"../cfg.yaml\", 'r') as stream:\n",
    "    cfg = yaml.safe_load(stream)\n",
    "    \n",
    "if not cfg['api_key'] or not cfg['workspace'] or not cfg['project'] or not cfg['version']:\n",
    "  print(\"Missing configuration data\")\n",
    "  exit(1)"
   ]
  },
  {
   "cell_type": "code",
   "execution_count": 4,
   "metadata": {},
   "outputs": [
    {
     "name": "stdout",
     "output_type": "stream",
     "text": [
      "/Users/serhiipostupaiev/projects/yolov8-research/mask-r-cnn\n"
     ]
    }
   ],
   "source": [
    "import os\n",
    "HOME = os.getcwd()\n",
    "print(HOME)"
   ]
  },
  {
   "cell_type": "code",
   "execution_count": 5,
   "metadata": {},
   "outputs": [
    {
     "name": "stderr",
     "output_type": "stream",
     "text": [
      "This is now an optional IPython functionality, using bookmarks requires you to install the `pickleshare` library.\n"
     ]
    },
    {
     "name": "stdout",
     "output_type": "stream",
     "text": [
      "[Errno 2] No such file or directory: '/Users/serhiipostupaiev/projects/yolov8-research/mask-r-cnn/mask-r-rcnn'\n",
      "/Users/serhiipostupaiev/projects/yolov8-research/mask-r-cnn\n",
      "loading Roboflow workspace...\n",
      "loading Roboflow project...\n"
     ]
    },
    {
     "name": "stderr",
     "output_type": "stream",
     "text": [
      "Downloading Dataset Version Zip in cameraman-segmentation-8 to coco:: 100%|██████████| 140979/140979 [00:15<00:00, 9057.29it/s] "
     ]
    },
    {
     "name": "stdout",
     "output_type": "stream",
     "text": [
      "\n"
     ]
    },
    {
     "name": "stderr",
     "output_type": "stream",
     "text": [
      "\n",
      "Extracting Dataset Version Zip to cameraman-segmentation-8 in coco:: 100%|██████████| 2789/2789 [00:00<00:00, 8998.54it/s]\n"
     ]
    }
   ],
   "source": [
    "%cd {HOME}\n",
    "\n",
    "from roboflow import Roboflow \n",
    "\n",
    "\n",
    "rf = Roboflow(api_key=cfg['api_key'])\n",
    "project = rf.workspace(cfg['workspace']).project(cfg['project'])\n",
    "dataset = project.version(cfg['version']).download('coco-segmentation')"
   ]
  },
  {
   "cell_type": "code",
   "execution_count": 6,
   "metadata": {},
   "outputs": [],
   "source": [
    "# register_coco_instances(\"asl_poly_train\", {}, f\"./{cfg['project']}-{cfg['version']}/train/_annotations.coco.json\", f\"./{cfg['project']}-{cfg['version']}/train/\")\n",
    "# register_coco_instances(\"asl_poly_valid\", {}, f\"./{cfg['project']}-{cfg['version']}/valid/_annotations.coco.json\", f\"./{cfg['project']}-{cfg['version']}/valid/\")\n",
    "# register_coco_instances(\"asl_poly_test\", {}, f\"./{cfg['project']}-{cfg['version']}/test/_annotations.coco.json\", f\"./{cfg['project']}-{cfg['version']}/test/\")"
   ]
  },
  {
   "cell_type": "code",
   "execution_count": 14,
   "metadata": {},
   "outputs": [],
   "source": [
    "# COMMON LIBRARIES\n",
    "import os\n",
    "import cv2\n",
    "\n",
    "from datetime import datetime\n",
    "# from google.colab.patches import cv2_imshow\n",
    "\n",
    "# DATA SET PREPARATION AND LOADING\n",
    "from detectron2.data.datasets import register_coco_instances\n",
    "from detectron2.data import DatasetCatalog, MetadataCatalog\n",
    "\n",
    "# VISUALIZATION\n",
    "from detectron2.utils.visualizer import Visualizer\n",
    "from detectron2.utils.visualizer import ColorMode\n",
    "\n",
    "# CONFIGURATION\n",
    "from detectron2 import model_zoo\n",
    "from detectron2.config import get_cfg\n",
    "\n",
    "# EVALUATION\n",
    "from detectron2.engine import DefaultPredictor\n",
    "\n",
    "# TRAINING\n",
    "from detectron2.engine import DefaultTrainer"
   ]
  },
  {
   "cell_type": "code",
   "execution_count": 17,
   "metadata": {},
   "outputs": [],
   "source": [
    "DATA_SET_NAME = dataset.name.replace(\" \", \"-\")\n",
    "ANNOTATIONS_FILE_NAME = \"_annotations.coco.json\""
   ]
  },
  {
   "cell_type": "code",
   "execution_count": null,
   "metadata": {},
   "outputs": [],
   "source": [
    "# TRAIN SET\n",
    "TRAIN_DATA_SET_NAME = f\"{DATA_SET_NAME}-train\"\n",
    "TRAIN_DATA_SET_IMAGES_DIR_PATH = os.path.join(dataset.location, \"train\")\n",
    "TRAIN_DATA_SET_ANN_FILE_PATH = os.path.join(dataset.location, \"train\", ANNOTATIONS_FILE_NAME)\n",
    "\n",
    "register_coco_instances(\n",
    "    name=TRAIN_DATA_SET_NAME, \n",
    "    metadata={}, \n",
    "    json_file=TRAIN_DATA_SET_ANN_FILE_PATH, \n",
    "    image_root=TRAIN_DATA_SET_IMAGES_DIR_PATH\n",
    ")\n",
    "\n",
    "# TEST SET\n",
    "TEST_DATA_SET_NAME = f\"{DATA_SET_NAME}-test\"\n",
    "TEST_DATA_SET_IMAGES_DIR_PATH = os.path.join(dataset.location, \"test\")\n",
    "TEST_DATA_SET_ANN_FILE_PATH = os.path.join(dataset.location, \"test\", ANNOTATIONS_FILE_NAME)\n",
    "\n",
    "register_coco_instances(\n",
    "    name=TEST_DATA_SET_NAME, \n",
    "    metadata={}, \n",
    "    json_file=TEST_DATA_SET_ANN_FILE_PATH, \n",
    "    image_root=TEST_DATA_SET_IMAGES_DIR_PATH\n",
    ")\n",
    "\n",
    "# VALID SET\n",
    "VALID_DATA_SET_NAME = f\"{DATA_SET_NAME}-valid\"\n",
    "VALID_DATA_SET_IMAGES_DIR_PATH = os.path.join(dataset.location, \"valid\")\n",
    "VALID_DATA_SET_ANN_FILE_PATH = os.path.join(dataset.location, \"valid\", ANNOTATIONS_FILE_NAME)\n",
    "\n",
    "register_coco_instances(\n",
    "    name=VALID_DATA_SET_NAME, \n",
    "    metadata={}, \n",
    "    json_file=VALID_DATA_SET_ANN_FILE_PATH, \n",
    "    image_root=VALID_DATA_SET_IMAGES_DIR_PATH\n",
    ")"
   ]
  },
  {
   "cell_type": "code",
   "execution_count": null,
   "metadata": {},
   "outputs": [],
   "source": [
    "[\n",
    "    data_set\n",
    "    for data_set\n",
    "    in MetadataCatalog.list()\n",
    "    if data_set.startswith(DATA_SET_NAME)\n",
    "]"
   ]
  },
  {
   "cell_type": "code",
   "execution_count": null,
   "metadata": {},
   "outputs": [],
   "source": [
    "# HYPERPARAMETERS\n",
    "ARCHITECTURE = \"mask_rcnn_R_101_FPN_3x\"\n",
    "CONFIG_FILE_PATH = f\"COCO-InstanceSegmentation/{ARCHITECTURE}.yaml\"\n",
    "MAX_ITER = 62500\n",
    "EVAL_PERIOD = 200\n",
    "BASE_LR = 0.001\n",
    "NUM_CLASSES = 1\n",
    "\n",
    "# OUTPUT DIR\n",
    "OUTPUT_DIR_PATH = os.path.join(\n",
    "    DATA_SET_NAME, \n",
    "    ARCHITECTURE, \n",
    "    datetime.now().strftime('%Y-%m-%d-%H-%M-%S')\n",
    ")\n",
    "\n",
    "os.makedirs(OUTPUT_DIR_PATH, exist_ok=True)"
   ]
  },
  {
   "cell_type": "code",
   "execution_count": null,
   "metadata": {},
   "outputs": [],
   "source": [
    "cfg = get_cfg()\n",
    "cfg.merge_from_file(model_zoo.get_config_file(CONFIG_FILE_PATH))\n",
    "cfg.MODEL.WEIGHTS = model_zoo.get_checkpoint_url(CONFIG_FILE_PATH)\n",
    "cfg.DATASETS.TRAIN = (TRAIN_DATA_SET_NAME,)\n",
    "cfg.DATASETS.TEST = (TEST_DATA_SET_NAME,)\n",
    "cfg.MODEL.ROI_HEADS.BATCH_SIZE_PER_IMAGE = 2\n",
    "cfg.TEST.EVAL_PERIOD = EVAL_PERIOD\n",
    "cfg.DATALOADER.NUM_WORKERS = 2\n",
    "cfg.SOLVER.IMS_PER_BATCH = 8\n",
    "cfg.INPUT.MASK_FORMAT='bitmask'\n",
    "cfg.SOLVER.BASE_LR = BASE_LR\n",
    "cfg.SOLVER.MAX_ITER = MAX_ITER\n",
    "cfg.MODEL.ROI_HEADS.NUM_CLASSES = NUM_CLASSES\n",
    "cfg.OUTPUT_DIR = OUTPUT_DIR_PATH"
   ]
  },
  {
   "cell_type": "code",
   "execution_count": null,
   "metadata": {},
   "outputs": [],
   "source": [
    "trainer = DefaultTrainer(cfg) \n",
    "trainer.resume_or_load(resume=False)\n",
    "trainer.train()"
   ]
  },
  {
   "cell_type": "code",
   "execution_count": null,
   "metadata": {},
   "outputs": [],
   "source": [
    "%load_ext tensorboard\n",
    "%tensorboard --logdir $OUTPUT_DIR_PATH"
   ]
  },
  {
   "cell_type": "code",
   "execution_count": null,
   "metadata": {},
   "outputs": [],
   "source": [
    "cfg.MODEL.WEIGHTS = os.path.join(cfg.OUTPUT_DIR, \"model_final.pth\")\n",
    "cfg.MODEL.ROI_HEADS.SCORE_THRESH_TEST = 0.7\n",
    "predictor = DefaultPredictor(cfg)"
   ]
  }
 ],
 "metadata": {
  "kernelspec": {
   "display_name": "venv",
   "language": "python",
   "name": "python3"
  },
  "language_info": {
   "codemirror_mode": {
    "name": "ipython",
    "version": 3
   },
   "file_extension": ".py",
   "mimetype": "text/x-python",
   "name": "python",
   "nbconvert_exporter": "python",
   "pygments_lexer": "ipython3",
   "version": "3.11.7"
  }
 },
 "nbformat": 4,
 "nbformat_minor": 2
}
