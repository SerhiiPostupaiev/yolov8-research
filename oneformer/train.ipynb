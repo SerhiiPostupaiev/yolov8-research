{
 "cells": [
  {
   "cell_type": "code",
   "execution_count": 1,
   "metadata": {},
   "outputs": [],
   "source": [
    "import yaml\n",
    "\n",
    "with open(\"../cfg.yaml\", 'r') as stream:\n",
    "    cfg = yaml.safe_load(stream)\n",
    "    \n",
    "if not cfg['api_key'] or not cfg['workspace'] or not cfg['project'] or not cfg['version']:\n",
    "  print(\"Missing configuration data\")\n",
    "  exit(1)"
   ]
  },
  {
   "cell_type": "code",
   "execution_count": 2,
   "metadata": {},
   "outputs": [
    {
     "name": "stdout",
     "output_type": "stream",
     "text": [
      "/Users/serhiipostupaiev/projects/yolov8-research/oneformer\n"
     ]
    }
   ],
   "source": [
    "import os\n",
    "HOME = os.getcwd()\n",
    "print(HOME)"
   ]
  },
  {
   "cell_type": "code",
   "execution_count": 3,
   "metadata": {},
   "outputs": [
    {
     "name": "stderr",
     "output_type": "stream",
     "text": [
      "/Users/serhiipostupaiev/projects/yolov8-research/venv/lib/python3.11/site-packages/IPython/core/magics/osm.py:417: UserWarning: This is now an optional IPython functionality, setting dhist requires you to install the `pickleshare` library.\n",
      "  self.shell.db['dhist'] = compress_dhist(dhist)[-100:]\n"
     ]
    },
    {
     "name": "stdout",
     "output_type": "stream",
     "text": [
      "/Users/serhiipostupaiev/projects/yolov8-research/oneformer\n",
      "loading Roboflow workspace...\n",
      "loading Roboflow project...\n",
      "Exporting format coco-segmentation in progress : 85.0%\n",
      "Version export complete for coco-segmentation format\n"
     ]
    }
   ],
   "source": [
    "%cd {HOME}\n",
    "\n",
    "from roboflow import Roboflow \n",
    "\n",
    "\n",
    "rf = Roboflow(api_key=cfg['api_key'])\n",
    "project = rf.workspace(cfg['workspace']).project(cfg['project'])\n",
    "dataset = project.version(cfg['version']).download('coco-segmentation')"
   ]
  },
  {
   "cell_type": "code",
   "execution_count": 4,
   "metadata": {},
   "outputs": [
    {
     "name": "stdout",
     "output_type": "stream",
     "text": [
      "Cloning into 'OneFormer'...\n",
      "remote: Enumerating objects: 522, done.\u001b[K\n",
      "remote: Counting objects: 100% (141/141), done.\u001b[KK\n",
      "remote: Compressing objects: 100% (59/59), done.\u001b[K\n",
      "remote: Total 522 (delta 99), reused 83 (delta 82), pack-reused 381\u001b[K\n",
      "Receiving objects: 100% (522/522), 9.29 MiB | 5.48 MiB/s, done.\n",
      "Resolving deltas: 100% (281/281), done.\n"
     ]
    }
   ],
   "source": [
    "!git clone https://github.com/SHI-Labs/OneFormer.git\n"
   ]
  },
  {
   "cell_type": "code",
   "execution_count": null,
   "metadata": {},
   "outputs": [],
   "source": [
    "python train_net.py \\\n",
    "    --config-file configs/ade20k/swin/oneformer_swin_large_bs16_160k.yaml \\\n",
    "    OUTPUT_DIR outputs/ade20k_swin_large "
   ]
  }
 ],
 "metadata": {
  "kernelspec": {
   "display_name": "venv",
   "language": "python",
   "name": "python3"
  },
  "language_info": {
   "codemirror_mode": {
    "name": "ipython",
    "version": 3
   },
   "file_extension": ".py",
   "mimetype": "text/x-python",
   "name": "python",
   "nbconvert_exporter": "python",
   "pygments_lexer": "ipython3",
   "version": "3.11.7"
  }
 },
 "nbformat": 4,
 "nbformat_minor": 2
}
