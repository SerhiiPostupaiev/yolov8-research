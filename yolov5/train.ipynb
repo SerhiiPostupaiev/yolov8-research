{
 "cells": [
  {
   "cell_type": "code",
   "execution_count": 3,
   "metadata": {},
   "outputs": [],
   "source": [
    "import yaml\n",
    "\n",
    "with open(\"../cfg.yaml\", 'r') as stream:\n",
    "    cfg = yaml.safe_load(stream)\n",
    "    \n",
    "if not cfg['api_key'] or not cfg['workspace'] or not cfg['project'] or not cfg['version']:\n",
    "  print(\"Missing configuration data\")\n",
    "  exit(1)"
   ]
  },
  {
   "cell_type": "code",
   "execution_count": 3,
   "metadata": {},
   "outputs": [
    {
     "name": "stdout",
     "output_type": "stream",
     "text": [
      "/Users/serhiipostupaiev/projects/yolov8-research/yolov5\n"
     ]
    }
   ],
   "source": [
    "import os\n",
    "HOME = os.getcwd()\n",
    "print(HOME)"
   ]
  },
  {
   "cell_type": "code",
   "execution_count": 3,
   "metadata": {},
   "outputs": [
    {
     "name": "stderr",
     "output_type": "stream",
     "text": [
      "YOLOv5 🚀 v7.0-294-gdb125a20 Python-3.11.7 torch-2.2.1 CPU\n"
     ]
    },
    {
     "name": "stdout",
     "output_type": "stream",
     "text": [
      "Setup complete ✅ (10 CPUs, 32.0 GB RAM, 272.8/460.4 GB disk)\n"
     ]
    }
   ],
   "source": [
    "# clone project repository and install dependencies\n",
    "\n",
    "!git clone https://github.com/ultralytics/yolov5.git # clone\n",
    "%cd {HOME}/yolov5\n",
    "%pip install -r requirements.txt # install\n",
    "\n",
    "import torch\n",
    "import utils\n",
    "display = utils.notebook_init()  # checks"
   ]
  },
  {
   "cell_type": "code",
   "execution_count": 5,
   "metadata": {},
   "outputs": [
    {
     "name": "stderr",
     "output_type": "stream",
     "text": [
      "Downloading https://github.com/ultralytics/yolov5/releases/download/v7.0/yolov5n-seg.pt to /Users/serhiipostupaiev/projects/yolov8-research/yolov5/yolov5/weights/yolov5n-seg.pt...\n",
      "100%|██████████| 4.11M/4.11M [00:00<00:00, 5.96MB/s]\n",
      "\n"
     ]
    }
   ],
   "source": [
    "# download pretrained weights\n",
    "\n",
    "from utils.downloads import attempt_download\n",
    "\n",
    "p5 = ['n']  # P5 models\n",
    "cls = [f'{x}-seg' for x in p5]  # segmentation models\n",
    "\n",
    "for x in cls:\n",
    "    attempt_download(f'{HOME}/yolov5/weights/yolov5{x}.pt')"
   ]
  },
  {
   "cell_type": "code",
   "execution_count": 10,
   "metadata": {},
   "outputs": [
    {
     "name": "stdout",
     "output_type": "stream",
     "text": [
      "/Users/serhiipostupaiev/projects/yolov8-research/yolov5/yolov5\n",
      "Requirement already satisfied: roboflow in /Users/serhiipostupaiev/projects/yolov8-research/venv/lib/python3.11/site-packages (1.1.23)\n",
      "Requirement already satisfied: certifi==2023.7.22 in /Users/serhiipostupaiev/projects/yolov8-research/venv/lib/python3.11/site-packages (from roboflow) (2023.7.22)\n",
      "Requirement already satisfied: chardet==4.0.0 in /Users/serhiipostupaiev/projects/yolov8-research/venv/lib/python3.11/site-packages (from roboflow) (4.0.0)\n",
      "Requirement already satisfied: cycler==0.10.0 in /Users/serhiipostupaiev/projects/yolov8-research/venv/lib/python3.11/site-packages (from roboflow) (0.10.0)\n",
      "Requirement already satisfied: idna==2.10 in /Users/serhiipostupaiev/projects/yolov8-research/venv/lib/python3.11/site-packages (from roboflow) (2.10)\n",
      "Requirement already satisfied: kiwisolver>=1.3.1 in /Users/serhiipostupaiev/projects/yolov8-research/venv/lib/python3.11/site-packages (from roboflow) (1.4.5)\n",
      "Requirement already satisfied: matplotlib in /Users/serhiipostupaiev/projects/yolov8-research/venv/lib/python3.11/site-packages (from roboflow) (3.8.3)\n",
      "Requirement already satisfied: numpy>=1.18.5 in /Users/serhiipostupaiev/projects/yolov8-research/venv/lib/python3.11/site-packages (from roboflow) (1.23.5)\n",
      "Requirement already satisfied: opencv-python-headless==4.8.0.74 in /Users/serhiipostupaiev/projects/yolov8-research/venv/lib/python3.11/site-packages (from roboflow) (4.8.0.74)\n",
      "Requirement already satisfied: Pillow>=7.1.2 in /Users/serhiipostupaiev/projects/yolov8-research/venv/lib/python3.11/site-packages (from roboflow) (10.2.0)\n",
      "Requirement already satisfied: python-dateutil in /Users/serhiipostupaiev/projects/yolov8-research/venv/lib/python3.11/site-packages (from roboflow) (2.9.0.post0)\n",
      "Requirement already satisfied: python-dotenv in /Users/serhiipostupaiev/projects/yolov8-research/venv/lib/python3.11/site-packages (from roboflow) (1.0.1)\n",
      "Requirement already satisfied: requests in /Users/serhiipostupaiev/projects/yolov8-research/venv/lib/python3.11/site-packages (from roboflow) (2.31.0)\n",
      "Requirement already satisfied: six in /Users/serhiipostupaiev/projects/yolov8-research/venv/lib/python3.11/site-packages (from roboflow) (1.16.0)\n",
      "Requirement already satisfied: urllib3>=1.26.6 in /Users/serhiipostupaiev/projects/yolov8-research/venv/lib/python3.11/site-packages (from roboflow) (2.2.1)\n",
      "Requirement already satisfied: tqdm>=4.41.0 in /Users/serhiipostupaiev/projects/yolov8-research/venv/lib/python3.11/site-packages (from roboflow) (4.66.2)\n",
      "Requirement already satisfied: PyYAML>=5.3.1 in /Users/serhiipostupaiev/projects/yolov8-research/venv/lib/python3.11/site-packages (from roboflow) (6.0.1)\n",
      "Requirement already satisfied: requests-toolbelt in /Users/serhiipostupaiev/projects/yolov8-research/venv/lib/python3.11/site-packages (from roboflow) (1.0.0)\n",
      "Requirement already satisfied: python-magic in /Users/serhiipostupaiev/projects/yolov8-research/venv/lib/python3.11/site-packages (from roboflow) (0.4.27)\n",
      "Requirement already satisfied: contourpy>=1.0.1 in /Users/serhiipostupaiev/projects/yolov8-research/venv/lib/python3.11/site-packages (from matplotlib->roboflow) (1.2.0)\n",
      "Requirement already satisfied: fonttools>=4.22.0 in /Users/serhiipostupaiev/projects/yolov8-research/venv/lib/python3.11/site-packages (from matplotlib->roboflow) (4.49.0)\n",
      "Requirement already satisfied: packaging>=20.0 in /Users/serhiipostupaiev/projects/yolov8-research/venv/lib/python3.11/site-packages (from matplotlib->roboflow) (24.0)\n",
      "Requirement already satisfied: pyparsing>=2.3.1 in /Users/serhiipostupaiev/projects/yolov8-research/venv/lib/python3.11/site-packages (from matplotlib->roboflow) (3.1.2)\n",
      "Requirement already satisfied: charset-normalizer<4,>=2 in /Users/serhiipostupaiev/projects/yolov8-research/venv/lib/python3.11/site-packages (from requests->roboflow) (3.3.2)\n",
      "loading Roboflow workspace...\n",
      "loading Roboflow project...\n"
     ]
    },
    {
     "name": "stderr",
     "output_type": "stream",
     "text": [
      "Downloading Dataset Version Zip in cameraman-segmentation-8 to yolov7pytorch:: 100%|██████████| 145891/145891 [00:15<00:00, 9168.98it/s] "
     ]
    },
    {
     "name": "stdout",
     "output_type": "stream",
     "text": [
      "\n"
     ]
    },
    {
     "name": "stderr",
     "output_type": "stream",
     "text": [
      "\n",
      "Extracting Dataset Version Zip to cameraman-segmentation-8 in yolov7pytorch:: 100%|██████████| 5574/5574 [00:00<00:00, 10534.63it/s]\n"
     ]
    }
   ],
   "source": [
    "%cd {HOME}/yolov5 \n",
    "!pip install roboflow\n",
    "\n",
    "from roboflow import Roboflow\n",
    "rf = Roboflow(api_key=cfg['api_key'])\n",
    "project = rf.workspace(cfg['workspace']).project(cfg['project'])\n",
    "dataset = project.version(cfg['version']).download('yolov5')"
   ]
  },
  {
   "cell_type": "code",
   "execution_count": 11,
   "metadata": {},
   "outputs": [
    {
     "name": "stdout",
     "output_type": "stream",
     "text": [
      "names:\n",
      "- cameraman\n",
      "nc: 1\n",
      "roboflow:\n",
      "  license: CC BY 4.0\n",
      "  project: cameraman-segmentation\n",
      "  url: https://universe.roboflow.com/cv-wc4ti/cameraman-segmentation/dataset/8\n",
      "  version: 8\n",
      "  workspace: cv-wc4ti\n",
      "test: ../test/images\n",
      "train: cameraman-segmentation-8/train/images\n",
      "val: cameraman-segmentation-8/valid/images\n"
     ]
    }
   ],
   "source": [
    "%cat {dataset.location}/data.yaml"
   ]
  },
  {
   "cell_type": "code",
   "execution_count": 4,
   "metadata": {},
   "outputs": [
    {
     "name": "stdout",
     "output_type": "stream",
     "text": [
      "/Users/serhiipostupaiev/projects/yolov8-research/yolov5/yolov5\n"
     ]
    },
    {
     "name": "stderr",
     "output_type": "stream",
     "text": [
      "/Users/serhiipostupaiev/projects/yolov8-research/venv/lib/python3.11/site-packages/IPython/core/magics/osm.py:417: UserWarning: This is now an optional IPython functionality, setting dhist requires you to install the `pickleshare` library.\n",
      "  self.shell.db['dhist'] = compress_dhist(dhist)[-100:]\n"
     ]
    },
    {
     "name": "stdout",
     "output_type": "stream",
     "text": [
      "\u001b[34m\u001b[1msegment/train: \u001b[0mweights=yolov5s-seg.pt, cfg=, data={dataset.location}/data.yaml, hyp=./hyp.yaml, epochs=5, batch_size=16, imgsz=854, rect=False, resume=False, nosave=False, noval=False, noautoanchor=False, noplots=False, evolve=None, bucket=, cache=None, image_weights=False, device=, multi_scale=False, single_cls=False, optimizer=SGD, sync_bn=False, workers=8, project=runs/train-seg, name=custom-dataset, exist_ok=False, quad=False, cos_lr=False, label_smoothing=0.0, patience=100, freeze=[0], save_period=-1, seed=0, local_rank=-1, mask_ratio=4, no_overlap=False\n",
      "\u001b[34m\u001b[1mgithub: \u001b[0mskipping check (not a git repository), for updates see https://github.com/ultralytics/yolov5\n",
      "Traceback (most recent call last):\n",
      "  File \"/Users/serhiipostupaiev/projects/yolov8-research/yolov5/yolov5/segment/train.py\", line 760, in <module>\n",
      "    main(opt)\n",
      "  File \"/Users/serhiipostupaiev/projects/yolov8-research/yolov5/yolov5/segment/train.py\", line 611, in main\n",
      "    check_file(opt.data),\n",
      "    ^^^^^^^^^^^^^^^^^^^^\n",
      "  File \"/Users/serhiipostupaiev/projects/yolov8-research/yolov5/yolov5/utils/general.py\", line 502, in check_file\n",
      "    assert len(files), f\"File not found: {file}\"  # assert file was found\n",
      "    ^^^^^^^^^^^^^^^^^^^^^^^^^^^^^^^^^^^^^^^^^^^^\n",
      "AssertionError: File not found: {dataset.location}/data.yaml\n"
     ]
    }
   ],
   "source": [
    "%cd {HOME}/yolov5 \n",
    "!python segment/train.py \\\n",
    "  --imgsz 854 \\\n",
    "  --batch-size 16 \\\n",
    "  --epochs 5 \\\n",
    "  --data {dataset.location}/data.yaml \\\n",
    "  --weights yolov5s-seg.pt \\\n",
    "  --name custom-dataset \\\n",
    "  --hyp ./hyp.yaml"
   ]
  }
 ],
 "metadata": {
  "kernelspec": {
   "display_name": "venv",
   "language": "python",
   "name": "python3"
  },
  "language_info": {
   "codemirror_mode": {
    "name": "ipython",
    "version": 3
   },
   "file_extension": ".py",
   "mimetype": "text/x-python",
   "name": "python",
   "nbconvert_exporter": "python",
   "pygments_lexer": "ipython3",
   "version": "3.11.7"
  }
 },
 "nbformat": 4,
 "nbformat_minor": 2
}
