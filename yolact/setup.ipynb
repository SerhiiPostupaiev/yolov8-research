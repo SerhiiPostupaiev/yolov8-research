{
 "cells": [
  {
   "cell_type": "code",
   "execution_count": 1,
   "metadata": {},
   "outputs": [],
   "source": [
    "import yaml\n",
    "\n",
    "with open(\"../cfg.yaml\", 'r') as stream:\n",
    "    cfg = yaml.safe_load(stream)\n",
    "    \n",
    "if not cfg['api_key'] or not cfg['workspace'] or not cfg['project'] or not cfg['version']:\n",
    "  print(\"Missing configuration data\")\n",
    "  exit(1)"
   ]
  },
  {
   "cell_type": "code",
   "execution_count": 2,
   "metadata": {},
   "outputs": [
    {
     "name": "stdout",
     "output_type": "stream",
     "text": [
      "zsh:1: command not found: nvidia-smi\n"
     ]
    }
   ],
   "source": [
    "!nvidia-smi"
   ]
  },
  {
   "cell_type": "code",
   "execution_count": 3,
   "metadata": {},
   "outputs": [
    {
     "name": "stdout",
     "output_type": "stream",
     "text": [
      "/Users/serhiipostupaiev/projects/yolov8-research/yolact\n"
     ]
    }
   ],
   "source": [
    "import os\n",
    "HOME = os.getcwd()\n",
    "print(HOME)"
   ]
  },
  {
   "cell_type": "code",
   "execution_count": 4,
   "metadata": {},
   "outputs": [
    {
     "name": "stdout",
     "output_type": "stream",
     "text": [
      "/Users/serhiipostupaiev/projects/yolov8-research/yolact\n",
      "Cloning into 'yolact'...\n"
     ]
    },
    {
     "name": "stderr",
     "output_type": "stream",
     "text": [
      "/Users/serhiipostupaiev/projects/yolov8-research/venv/lib/python3.11/site-packages/IPython/core/magics/osm.py:417: UserWarning: This is now an optional IPython functionality, setting dhist requires you to install the `pickleshare` library.\n",
      "  self.shell.db['dhist'] = compress_dhist(dhist)[-100:]\n"
     ]
    },
    {
     "name": "stdout",
     "output_type": "stream",
     "text": [
      "remote: Enumerating objects: 2936, done.\u001b[K\n",
      "remote: Total 2936 (delta 0), reused 0 (delta 0), pack-reused 2936\u001b[K\n",
      "Receiving objects: 100% (2936/2936), 21.20 MiB | 2.04 MiB/s, done.\n",
      "Resolving deltas: 100% (2002/2002), done.\n"
     ]
    }
   ],
   "source": [
    "%cd {HOME}\n",
    "!git clone https://github.com/dbolya/yolact.git"
   ]
  },
  {
   "cell_type": "code",
   "execution_count": 6,
   "metadata": {},
   "outputs": [
    {
     "name": "stdout",
     "output_type": "stream",
     "text": [
      "/Users/serhiipostupaiev/projects/yolov8-research/yolact/yolact\n"
     ]
    },
    {
     "name": "stderr",
     "output_type": "stream",
     "text": [
      "/Users/serhiipostupaiev/projects/yolov8-research/venv/lib/python3.11/site-packages/IPython/core/magics/osm.py:417: UserWarning: This is now an optional IPython functionality, setting dhist requires you to install the `pickleshare` library.\n",
      "  self.shell.db['dhist'] = compress_dhist(dhist)[-100:]\n"
     ]
    },
    {
     "name": "stdout",
     "output_type": "stream",
     "text": [
      "Retrieving notices: ...working... done\n",
      "Collecting package metadata (repodata.json): | WARNING conda.models.version:get_matcher(546): Using .* with relational operator is superfluous and deprecated and will be removed in a future version of conda. Your spec was 1.8.0.*, but conda is ignoring the .* and treating it as 1.8.0\n",
      "WARNING conda.models.version:get_matcher(546): Using .* with relational operator is superfluous and deprecated and will be removed in a future version of conda. Your spec was 1.7.1.*, but conda is ignoring the .* and treating it as 1.7.1\n",
      "WARNING conda.models.version:get_matcher(546): Using .* with relational operator is superfluous and deprecated and will be removed in a future version of conda. Your spec was 1.6.0.*, but conda is ignoring the .* and treating it as 1.6.0\n",
      "WARNING conda.models.version:get_matcher(546): Using .* with relational operator is superfluous and deprecated and will be removed in a future version of conda. Your spec was 1.9.0.*, but conda is ignoring the .* and treating it as 1.9.0\n",
      "done\n",
      "Solving environment: failed\n",
      "\n",
      "ResolvePackageNotFound: \n",
      "  - pytorch::cuda100\n",
      "  - cudnn\n",
      "\n",
      "Collecting cython\n",
      "  Downloading Cython-3.0.9-py2.py3-none-any.whl.metadata (3.2 kB)\n",
      "Downloading Cython-3.0.9-py2.py3-none-any.whl (1.2 MB)\n",
      "\u001b[2K   \u001b[38;2;114;156;31m━━━━━━━━━━━━━━━━━━━━━━━━━━━━━━━━━━━━━━━━\u001b[0m \u001b[32m1.2/1.2 MB\u001b[0m \u001b[31m5.4 MB/s\u001b[0m eta \u001b[36m0:00:00\u001b[0m MB/s\u001b[0m eta \u001b[36m0:00:01\u001b[0m:01\u001b[0m\n",
      "\u001b[?25hInstalling collected packages: cython\n",
      "Successfully installed cython-3.0.9\n",
      "Requirement already satisfied: opencv-python in /Users/serhiipostupaiev/projects/yolov8-research/venv/lib/python3.11/site-packages (4.9.0.80)\n",
      "Requirement already satisfied: pillow in /Users/serhiipostupaiev/projects/yolov8-research/venv/lib/python3.11/site-packages (10.2.0)\n",
      "Collecting pycocotools\n",
      "  Downloading pycocotools-2.0.7-cp311-cp311-macosx_10_9_universal2.whl.metadata (1.1 kB)\n",
      "Requirement already satisfied: matplotlib in /Users/serhiipostupaiev/projects/yolov8-research/venv/lib/python3.11/site-packages (3.8.3)\n",
      "Requirement already satisfied: numpy>=1.21.2 in /Users/serhiipostupaiev/projects/yolov8-research/venv/lib/python3.11/site-packages (from opencv-python) (1.23.5)\n",
      "Requirement already satisfied: contourpy>=1.0.1 in /Users/serhiipostupaiev/projects/yolov8-research/venv/lib/python3.11/site-packages (from matplotlib) (1.2.0)\n",
      "Requirement already satisfied: cycler>=0.10 in /Users/serhiipostupaiev/projects/yolov8-research/venv/lib/python3.11/site-packages (from matplotlib) (0.10.0)\n",
      "Requirement already satisfied: fonttools>=4.22.0 in /Users/serhiipostupaiev/projects/yolov8-research/venv/lib/python3.11/site-packages (from matplotlib) (4.49.0)\n",
      "Requirement already satisfied: kiwisolver>=1.3.1 in /Users/serhiipostupaiev/projects/yolov8-research/venv/lib/python3.11/site-packages (from matplotlib) (1.4.5)\n",
      "Requirement already satisfied: packaging>=20.0 in /Users/serhiipostupaiev/projects/yolov8-research/venv/lib/python3.11/site-packages (from matplotlib) (24.0)\n",
      "Requirement already satisfied: pyparsing>=2.3.1 in /Users/serhiipostupaiev/projects/yolov8-research/venv/lib/python3.11/site-packages (from matplotlib) (3.1.2)\n",
      "Requirement already satisfied: python-dateutil>=2.7 in /Users/serhiipostupaiev/projects/yolov8-research/venv/lib/python3.11/site-packages (from matplotlib) (2.9.0.post0)\n",
      "Requirement already satisfied: six in /Users/serhiipostupaiev/projects/yolov8-research/venv/lib/python3.11/site-packages (from cycler>=0.10->matplotlib) (1.16.0)\n",
      "Downloading pycocotools-2.0.7-cp311-cp311-macosx_10_9_universal2.whl (170 kB)\n",
      "\u001b[2K   \u001b[38;2;114;156;31m━━━━━━━━━━━━━━━━━━━━━━━━━━━━━━━━━━━━━━━━\u001b[0m \u001b[32m170.3/170.3 kB\u001b[0m \u001b[31m3.1 MB/s\u001b[0m eta \u001b[36m0:00:00\u001b[0m MB/s\u001b[0m eta \u001b[36m0:00:01\u001b[0m\n",
      "\u001b[?25hInstalling collected packages: pycocotools\n",
      "Successfully installed pycocotools-2.0.7\n"
     ]
    }
   ],
   "source": [
    "%cd {HOME}/yolact\n",
    "!conda env create -f environment.yml\n",
    "!pip install cython\n",
    "!pip install opencv-python pillow pycocotools matplotlib "
   ]
  },
  {
   "cell_type": "code",
   "execution_count": 8,
   "metadata": {},
   "outputs": [
    {
     "name": "stdout",
     "output_type": "stream",
     "text": [
      "Requirement already satisfied: gdown in /Users/serhiipostupaiev/projects/yolov8-research/venv/lib/python3.11/site-packages (5.1.0)\n",
      "Requirement already satisfied: beautifulsoup4 in /Users/serhiipostupaiev/projects/yolov8-research/venv/lib/python3.11/site-packages (from gdown) (4.12.3)\n",
      "Requirement already satisfied: filelock in /Users/serhiipostupaiev/projects/yolov8-research/venv/lib/python3.11/site-packages (from gdown) (3.13.1)\n",
      "Requirement already satisfied: requests[socks] in /Users/serhiipostupaiev/projects/yolov8-research/venv/lib/python3.11/site-packages (from gdown) (2.31.0)\n",
      "Requirement already satisfied: tqdm in /Users/serhiipostupaiev/projects/yolov8-research/venv/lib/python3.11/site-packages (from gdown) (4.66.2)\n",
      "Requirement already satisfied: soupsieve>1.2 in /Users/serhiipostupaiev/projects/yolov8-research/venv/lib/python3.11/site-packages (from beautifulsoup4->gdown) (2.5)\n",
      "Requirement already satisfied: charset-normalizer<4,>=2 in /Users/serhiipostupaiev/projects/yolov8-research/venv/lib/python3.11/site-packages (from requests[socks]->gdown) (3.3.2)\n",
      "Requirement already satisfied: idna<4,>=2.5 in /Users/serhiipostupaiev/projects/yolov8-research/venv/lib/python3.11/site-packages (from requests[socks]->gdown) (2.10)\n",
      "Requirement already satisfied: urllib3<3,>=1.21.1 in /Users/serhiipostupaiev/projects/yolov8-research/venv/lib/python3.11/site-packages (from requests[socks]->gdown) (2.2.1)\n",
      "Requirement already satisfied: certifi>=2017.4.17 in /Users/serhiipostupaiev/projects/yolov8-research/venv/lib/python3.11/site-packages (from requests[socks]->gdown) (2023.7.22)\n",
      "Requirement already satisfied: PySocks!=1.5.7,>=1.5.6 in /Users/serhiipostupaiev/projects/yolov8-research/venv/lib/python3.11/site-packages (from requests[socks]->gdown) (1.7.1)\n",
      "/Users/serhiipostupaiev/projects/yolov8-research/yolact/yolact\n"
     ]
    },
    {
     "name": "stderr",
     "output_type": "stream",
     "text": [
      "/Users/serhiipostupaiev/projects/yolov8-research/venv/lib/python3.11/site-packages/IPython/core/magics/osm.py:417: UserWarning: This is now an optional IPython functionality, setting dhist requires you to install the `pickleshare` library.\n",
      "  self.shell.db['dhist'] = compress_dhist(dhist)[-100:]\n"
     ]
    },
    {
     "name": "stdout",
     "output_type": "stream",
     "text": [
      "Downloading...\n",
      "From (original): https://drive.google.com/uc?id=1yp7ZbbDwvMiFJEq4ptVKTYTI2VeRDXl0&export=download\n",
      "From (redirected): https://drive.google.com/uc?id=1yp7ZbbDwvMiFJEq4ptVKTYTI2VeRDXl0&export=download&confirm=t&uuid=3f13f4ce-1e7d-4d34-8ad4-d53cf36c8d6d\n",
      "To: /Users/serhiipostupaiev/projects/yolov8-research/yolact/yolact/yolact_resnet50_54_800000.pth\n",
      "100%|████████████████████████████████████████| 127M/127M [00:16<00:00, 7.51MB/s]\n"
     ]
    }
   ],
   "source": [
    "!pip install gdown\n",
    "%cd {HOME}/yolact\n",
    "!gdown \"https://drive.google.com/uc?id=1yp7ZbbDwvMiFJEq4ptVKTYTI2VeRDXl0&export=download\" -O \"yolact_resnet50_54_800000.pth\"\n",
    "\n",
    "WEIGHTS_PATH = f\"{HOME}/yolact/yolact_resnet50_54_800000.pth\""
   ]
  },
  {
   "cell_type": "code",
   "execution_count": 10,
   "metadata": {},
   "outputs": [
    {
     "name": "stderr",
     "output_type": "stream",
     "text": [
      "This is now an optional IPython functionality, setting dhist requires you to install the `pickleshare` library.\n"
     ]
    },
    {
     "name": "stdout",
     "output_type": "stream",
     "text": [
      "/Users/serhiipostupaiev/projects/yolov8-research/yolact/yolact\n",
      "loading Roboflow workspace...\n",
      "loading Roboflow project...\n"
     ]
    },
    {
     "name": "stderr",
     "output_type": "stream",
     "text": [
      "Downloading Dataset Version Zip in cameraman-segmentation-8 to coco:: 100%|██████████| 140979/140979 [00:16<00:00, 8752.31it/s] "
     ]
    },
    {
     "name": "stdout",
     "output_type": "stream",
     "text": [
      "\n"
     ]
    },
    {
     "name": "stderr",
     "output_type": "stream",
     "text": [
      "\n",
      "Extracting Dataset Version Zip to cameraman-segmentation-8 in coco:: 100%|██████████| 2789/2789 [00:00<00:00, 9053.22it/s]\n"
     ]
    }
   ],
   "source": [
    "%cd {HOME}/yolact\n",
    "\n",
    "from roboflow import Roboflow \n",
    "\n",
    "\n",
    "rf = Roboflow(api_key=cfg['api_key'])\n",
    "project = rf.workspace(cfg['workspace']).project(cfg['project'])\n",
    "dataset = project.version(cfg['version']).download('coco-segmentation')"
   ]
  },
  {
   "cell_type": "code",
   "execution_count": 25,
   "metadata": {},
   "outputs": [],
   "source": [
    "%mv {dataset.location} {HOME}/yolact/data/cameraman"
   ]
  }
 ],
 "metadata": {
  "kernelspec": {
   "display_name": "venv",
   "language": "python",
   "name": "python3"
  },
  "language_info": {
   "codemirror_mode": {
    "name": "ipython",
    "version": 3
   },
   "file_extension": ".py",
   "mimetype": "text/x-python",
   "name": "python",
   "nbconvert_exporter": "python",
   "pygments_lexer": "ipython3",
   "version": "3.11.7"
  }
 },
 "nbformat": 4,
 "nbformat_minor": 2
}
